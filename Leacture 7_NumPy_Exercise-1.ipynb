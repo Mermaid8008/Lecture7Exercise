{
 "cells": [
  {
   "cell_type": "markdown",
   "id": "b3271b0b",
   "metadata": {},
   "source": [
    "## Why NumPy?\n",
    "\n",
    "- Compact, contiguous arrays of numbers in memory.\n",
    "- Vectorized operations dispatch to optimized C/BLAS under the hood.\n",
    "- Expressive APIs for indexing, broadcasting, and linear algebra.\n",
    "- Foundation for scientific Python (Pandas, SciPy, scikit-learn)."
   ]
  },
  {
   "cell_type": "markdown",
   "id": "45f11f31",
   "metadata": {},
   "source": [
    "### 1) Review- Creating arrays: \n",
    "- Build 1D/2D arrays using `array`, `linspace`, `arange`, and helpers (`zeros`, `ones`, `eye`)."
   ]
  },
  {
   "cell_type": "code",
   "execution_count": null,
   "id": "c797d665",
   "metadata": {},
   "outputs": [],
   "source": [
    "# Add comments to all code in this Notebook\n",
    "# You have seen this code before\n",
    "import numpy as np\n",
    "\n",
    "# 1D arrays\n",
    "a = np.array([1, 3, 5, 7], dtype=float) # 1x4 matrix\n",
    "# 2 x 2 array with all integer elements\n",
    "b = np.array([[1, 2, 3],\n",
    "              [4, 5, 6]], dtype= int) # 2x3 matrix\n",
    "x_lin = np.linspace(0.0, 5.0, 11)     # inclusive ends\n",
    "x_rng = np.arange(0.0, 5.0, 0.5)      # half-open [start, end)\n",
    "\n",
    "print('a =\\n', a)\n",
    "print('b =\\n', b)\n",
    "print('lin    =', x_lin)\n",
    "print('arange =', x_rng)\n",
    "\n",
    "# 2D helpers\n",
    "Z = np.zeros((2,3))\n",
    "O = np.ones((3,2))\n",
    "I = np.eye(3)\n",
    "print('zeros:\\n', Z)\n",
    "print('ones:\\n',  O)\n",
    "print('eye:\\n',   I)\n"
   ]
  },
  {
   "cell_type": "markdown",
   "id": "ce3bba2f",
   "metadata": {},
   "source": [
    "### 2) Vectorization \n",
    "- Example: velocity of a falling object"
   ]
  },
  {
   "cell_type": "code",
   "execution_count": null,
   "id": "4e051238",
   "metadata": {},
   "outputs": [
    {
     "name": "stdout",
     "output_type": "stream",
     "text": [
      "velocity(1.0) = 9.8\n",
      "t = [0.         0.21052632 0.42105263 0.63157895 0.84210526 1.05263158\n",
      " 1.26315789 1.47368421 1.68421053 1.89473684 2.10526316 2.31578947\n",
      " 2.52631579 2.73684211 2.94736842 3.15789474 3.36842105 3.57894737\n",
      " 3.78947368 4.        ]\n",
      "v = [ 0.          2.06315789  4.12631579  6.18947368  8.25263158 10.31578947\n",
      " 12.37894737 14.44210526 16.50526316 18.56842105 20.63157895 22.69473684\n",
      " 24.75789474 26.82105263 28.88421053 30.94736842 33.01052632 35.07368421\n",
      " 37.13684211 39.2       ]\n"
     ]
    },
    {
     "data": {
      "image/png": "[encoded data removed]",
      "text/plain": [
       "<Figure size 520x320 with 1 Axes>"
      ]
     },
     "metadata": {},
     "output_type": "display_data"
    }
   ],
   "source": [
    "import numpy as np, matplotlib.pyplot as plt # always do this first\n",
    "\n",
    "def velocity(t): # draw vertical line under \"def\" for max points\n",
    "    g = 9.8  # m/s^2 , local\n",
    "    v0 = 0.0\n",
    "    return g * t + v0\n",
    "\n",
    "# Scalar works\n",
    "print('velocity(1.0) =', velocity(1.0))\n",
    "\n",
    "# Vectorized with NumPy\n",
    "# t = np.array([0,1,2,3,4], dtype=int) # Vactorize t in an array \n",
    "t = np.linspace(0,4,20)\n",
    "# t = np.arange(0, 4, 0.2) # (x, y, intervals of 0.2 up to 4)\n",
    "v = velocity(t)\n",
    "print('t =', t)\n",
    "print('v =', v)\n",
    "\n",
    "plt.figure(figsize=(5.2,3.2)) # (5.2 wide, 3.2 tall)\n",
    "plt.plot(t, v, 'o-', label='v(t) = -9.8 t') #.plot is straight line , (t = x, v = y)\n",
    "# plt.xlim(0, 4)\n",
    "plt.xlabel('t (s)'); plt.ylabel('v (m/s)'); plt.title('Vectorized evaluation')\n",
    "plt.grid(True, alpha=0.3); plt.legend(); plt.tight_layout(); plt.show()\n"
   ]
  },
  {
   "cell_type": "markdown",
   "id": "585111ea",
   "metadata": {},
   "source": [
    "#### Exercise\n",
    "Calculate and plot the distance of a falling object with the same initial velocity above. "
   ]
  },
  {
   "cell_type": "code",
   "execution_count": null,
   "id": "458ff806",
   "metadata": {},
   "outputs": [],
   "source": [
    "# Your code here\n",
    "import numpy as np, matplotlib.pyplot as plt\n",
    "\n",
    "def distance(t): # (1/2)*g*(t**2)+v0*t+x0\n",
    "    g = 9.8 # m/s \n",
    "    v0 = 0.0 \n",
    "    x0 = 0.0"
   ]
  },
  {
   "cell_type": "markdown",
   "id": "24be002a",
   "metadata": {},
   "source": [
    "### 3) Indexing & slicing (1D and 2D)\n",
    "- Use basic **indexing & slicing** (including 2D) and perform in-place assignments."
   ]
  },
  {
   "cell_type": "code",
   "execution_count": 18,
   "id": "9a1c0c7c",
   "metadata": {},
   "outputs": [
    {
     "name": "stdout",
     "output_type": "stream",
     "text": [
      "A= [[7. 8. 9.]\n",
      " [4. 5. 6.]] \n",
      "shape = (2, 3)\n",
      "A[1][2] = 6.0\n",
      "A[1,2]  = 6.0\n",
      "Row 0  : [7. 8. 9.]\n",
      "Col 1  : [8. 5.]\n",
      "After A[1,2] = -A[0,0]: [[ 7.  8.  9.]\n",
      " [ 4.  5. -7.]]\n"
     ]
    }
   ],
   "source": [
    "import numpy as np\n",
    "\n",
    "A = np.array([[7., 8., 9.],\n",
    "              [4., 5., 6.]])\n",
    "print('A=', A, '\\nshape =', A.shape)\n",
    "\n",
    "# Two equivalent ways to index a single element\n",
    "print('A[1][2] =', A[1][2]) # A[row][column]\n",
    "print('A[1,2]  =', A[1,2]) # A[row, column]\n",
    "\n",
    "# Row / column slicing\n",
    "print('Row 0  :', A[0, :]) # row 1 \n",
    "print('Col 1  :', A[:, 1]) # column 1\n",
    "\n",
    "# In-place assignment\n",
    "A[1, 2] = -A[0, 0]\n",
    "print('After A[1,2] = -A[0,0]:', A)\n"
   ]
  },
  {
   "cell_type": "markdown",
   "id": "eabbdb50",
   "metadata": {},
   "source": [
    "#### Exercise\n",
    "Make a 3 x 5 array using the function of your choice. \n",
    "Print out 1). a particular row, 2). a particular colum, and 3). a particular element"
   ]
  },
  {
   "cell_type": "code",
   "execution_count": null,
   "id": "4954cde0",
   "metadata": {},
   "outputs": [
    {
     "data": {
      "text/plain": [
       "slice(None, ' Ha', None)"
      ]
     },
     "execution_count": 12,
     "metadata": {},
     "output_type": "execute_result"
    }
   ],
   "source": [
    "# Your code here\n"
   ]
  },
  {
   "cell_type": "markdown",
   "id": "a38d046e",
   "metadata": {},
   "source": [
    "### 4) Broadcasting: eliminating loops\n",
    "- Apply **broadcasting** rules to eliminate loops and generate grids. It works by automatically expanding the smaller array across the larger one so that they have compatible shapes.\n",
    "\n",
    "Examples below build a coordinate grid without explicit loops and compute a distance field."
   ]
  },
  {
   "cell_type": "code",
   "execution_count": 22,
   "id": "a995e6cf",
   "metadata": {},
   "outputs": [
    {
     "name": "stdout",
     "output_type": "stream",
     "text": [
      "[[-2.        ]\n",
      " [-1.55555556]\n",
      " [-1.11111111]\n",
      " [-0.66666667]\n",
      " [-0.22222222]\n",
      " [ 0.22222222]\n",
      " [ 0.66666667]\n",
      " [ 1.11111111]\n",
      " [ 1.55555556]\n",
      " [ 2.        ]]\n",
      "[[-2.         -1.55555556 -1.11111111 -0.66666667 -0.22222222  0.22222222\n",
      "   0.66666667  1.11111111  1.55555556  2.        ]]\n"
     ]
    },
    {
     "data": {
      "image/png": "[encoded data removed]",
      "text/plain": [
       "<Figure size 500x400 with 2 Axes>"
      ]
     },
     "metadata": {},
     "output_type": "display_data"
    }
   ],
   "source": [
    "import numpy as np, matplotlib.pyplot as plt\n",
    "\n",
    "x = np.linspace(-2, 2, num=10, dtype=float)[:, None]   # shape (10,1) column\n",
    "y = np.linspace(-2, 2, 10, dtype= float)[None, :]   # shape (1,10) row\n",
    "print(x)\n",
    "print(y)\n",
    "X = x + 0*y                             # broadcast to (10,10)\n",
    "Y = 0*x + y                             # broadcast to (10,10)\n",
    "R = np.sqrt(X**2 + Y**2)                # element-wise\n",
    "# print(R)\n",
    "plt.figure(figsize=(5,4))\n",
    "plt.contourf(X, Y, R, levels=15, cmap='viridis')\n",
    "plt.colorbar(label='radius')\n",
    "plt.gca().set_aspect('equal', 'box')\n",
    "plt.title('Broadcasted radius grid (no explicit loops)')\n",
    "plt.xlabel('x'); plt.ylabel('y'); plt.tight_layout(); plt.show()\n"
   ]
  },
  {
   "cell_type": "markdown",
   "id": "fc47c4b5",
   "metadata": {},
   "source": [
    "#### Exercise\n",
    "Make up a function similar to the example above and plot it. \n",
    "Try increase the array sizes and see what heppens."
   ]
  },
  {
   "cell_type": "code",
   "execution_count": null,
   "id": "6a15f478",
   "metadata": {},
   "outputs": [],
   "source": [
    "# Your code here. \n"
   ]
  },
  {
   "cell_type": "markdown",
   "id": "5396d757",
   "metadata": {},
   "source": [
    "### 5) Dtypes & precision: float32 vs float64\n",
    "- Choose an appropriate **dtype** and understand precision trade-offs. "
   ]
  },
  {
   "cell_type": "code",
   "execution_count": null,
   "id": "455a8828",
   "metadata": {},
   "outputs": [
    {
     "ename": "",
     "evalue": "",
     "output_type": "error",
     "traceback": [
      "\u001b[1;31mThe Kernel crashed while executing code in the current cell or a previous cell. \n",
      "\u001b[1;31mPlease review the code in the cell(s) to identify a possible cause of the failure. \n",
      "\u001b[1;31mClick <a href='https://aka.ms/vscodeJupyterKernelCrash'>here</a> for more info. \n",
      "\u001b[1;31mView Jupyter <a href='command:jupyter.viewOutput'>log</a> for further details."
     ]
    }
   ],
   "source": [
    "import numpy as np\n",
    "\n",
    "# A tiny accumulation example\n",
    "N = 1_000_000_000 # What does this line of code do?\n",
    "x = np.ones(N, dtype=np.float32) / N\n",
    "y = np.ones(N, dtype=np.float64) / N\n",
    "print('sum float32 ≈', x.sum(), ' error=', abs(x.sum()-1.0))\n",
    "print('sum float64 ≈', y.sum(), ' error=', abs(y.sum()-1.0))\n",
    "# Run the code and explain what happens.\n",
    "# Does it take a longer time (compare to other code) to run? Why or why not?"
   ]
  },
  {
   "cell_type": "markdown",
   "id": "d4b8ea0c",
   "metadata": {},
   "source": [
    "#### Exercise\n",
    "Make two arrays using np.array. They have exactly the same elements but different precisions- one of them is float32 and the other one is float 64. Print out the difference of the (third items/1,000,000) in these two arrays. Should it be ZERO?? Why or whynot?"
   ]
  },
  {
   "cell_type": "code",
   "execution_count": null,
   "id": "ed3f8dee",
   "metadata": {},
   "outputs": [],
   "source": [
    "# Your code here\n"
   ]
  },
  {
   "cell_type": "markdown",
   "id": "1d565702",
   "metadata": {},
   "source": [
    "### 6) Reshape & aggregations (axis)"
   ]
  },
  {
   "cell_type": "code",
   "execution_count": null,
   "id": "b67d145d",
   "metadata": {},
   "outputs": [
    {
     "name": "stdout",
     "output_type": "stream",
     "text": [
      "B= [[ 0  1  2  3]\n",
      " [ 4  5  6  7]\n",
      " [ 8  9 10 11]]\n",
      "sum over rows (axis=1): [ 6 22 38]\n",
      "mean over cols (axis=0): [4. 5. 6. 7.]\n"
     ]
    }
   ],
   "source": [
    "import numpy as np\n",
    "\n",
    "B = np.arange(12).reshape(3,4) # makes a 3x4 matrix\n",
    "print('B=', B)\n",
    "print('sum over rows (axis=1):', B.sum(axis=1)) # a_11 = 0+1+2+3 = 6, a_12 = 4+5+6+7 = 22, a_13 = 8+9+10+11 = 38\n",
    "print('mean over cols (axis=0):', B.mean(axis=0)) # What does this line of code does?\n"
   ]
  },
  {
   "cell_type": "markdown",
   "id": "cd617456",
   "metadata": {},
   "source": [
    "#### Exercise\n",
    "Make another array and reshape it. Sum over each row and each colum of this array."
   ]
  },
  {
   "cell_type": "code",
   "execution_count": null,
   "id": "f901cbb2",
   "metadata": {},
   "outputs": [
    {
     "name": "stdout",
     "output_type": "stream",
     "text": [
      "[[0 1 2]\n",
      " [3 4 5]\n",
      " [6 7 8]]\n",
      "sum of rows: [ 3 12 21]\n",
      "mean of columns: [3. 4. 5.]\n"
     ]
    }
   ],
   "source": [
    "# Your code here\n",
    "matrix = np.arange(9).reshape(3,3)\n",
    "print(matrix)\n",
    "print(\"sum of rows:\", matrix.sum(axis=1)) # horizontal\n",
    "# sum_of_rows 1 = 0+1+2 = 3\n",
    "#             2 = 3+4+5 = 12\n",
    "#             3 = 6+7+8 = 21\n",
    "print(\"mean of columns:\", matrix.mean(axis=0)) # vertical \n",
    "# mean_of_column 1 = 0+3+6 / 3 = 3\n",
    "#                2 = 1+4+7 / 3 = 4\n",
    "#                3 = 2+5+8 / 3 = 5 "
   ]
  },
  {
   "cell_type": "markdown",
   "id": "847e639c",
   "metadata": {},
   "source": [
    "### 7) Quick exercises to connect all the things we have learned so far"
   ]
  },
  {
   "cell_type": "markdown",
   "id": "fd6bdf97",
   "metadata": {},
   "source": [
    "#### Exercise\n",
    "Use NumPy array and matplotlib to plot y= x^3 - 2x. "
   ]
  },
  {
   "cell_type": "code",
   "execution_count": null,
   "id": "48cbb7a3",
   "metadata": {},
   "outputs": [],
   "source": [
    "# Your code here\n"
   ]
  },
  {
   "cell_type": "markdown",
   "id": "c17a63d6",
   "metadata": {},
   "source": [
    "#### Exercise\n",
    "The dimensions of your arrays are undeclared initially. Use loops or recrusions to plot the function y= x^3 - 2x. You should get the same plot as above.\n",
    "Hint: Start with a flowchart. You may use append. "
   ]
  },
  {
   "cell_type": "code",
   "execution_count": null,
   "id": "e56ce258",
   "metadata": {},
   "outputs": [],
   "source": [
    "# Your code here"
   ]
  }
 ],
 "metadata": {
  "kernelspec": {
   "display_name": "Python 3",
   "language": "python",
   "name": "python3"
  },
  "language_info": {
   "codemirror_mode": {
    "name": "ipython",
    "version": 3
   },
   "file_extension": ".py",
   "mimetype": "text/x-python",
   "name": "python",
   "nbconvert_exporter": "python",
   "pygments_lexer": "ipython3",
   "version": "3.13.7"
  }
 },
 "nbformat": 4,
 "nbformat_minor": 5
}
